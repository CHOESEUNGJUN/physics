{
  "nbformat": 4,
  "nbformat_minor": 0,
  "metadata": {
    "colab": {
      "provenance": [],
      "authorship_tag": "ABX9TyNGIgy/t9aExul8jckTHLgW",
      "include_colab_link": true
    },
    "kernelspec": {
      "name": "python3",
      "display_name": "Python 3"
    },
    "language_info": {
      "name": "python"
    }
  },
  "cells": [
    {
      "cell_type": "markdown",
      "metadata": {
        "id": "view-in-github",
        "colab_type": "text"
      },
      "source": [
        "<a href=\"https://colab.research.google.com/github/CHOESEUNGJUN/physics/blob/20250331/Untitled0.ipynb\" target=\"_parent\"><img src=\"https://colab.research.google.com/assets/colab-badge.svg\" alt=\"Open In Colab\"/></a>"
      ]
    },
    {
      "cell_type": "code",
      "execution_count": 6,
      "metadata": {
        "colab": {
          "base_uri": "https://localhost:8080/"
        },
        "id": "_Do1hBvEQMdF",
        "outputId": "efa4fbd7-7f41-40db-bbb5-166c378671ec"
      },
      "outputs": [
        {
          "output_type": "stream",
          "name": "stdout",
          "text": [
            "첫 번째 벡터의 x 성분을 입력하세요: 5\n",
            "첫 번째 벡터의 y 성분을 입력하세요: 6\n",
            "두 번째 벡터의 x 성분을 입력하세요: 8\n",
            "두 번째 벡터의 y 성분을 입력하세요: 2\n",
            "\n",
            "벡터 1: 5.0 i + 6.0 j\n",
            "벡터 2: 8.0 i + 2.0 j\n",
            "\n",
            "벡터의 합: 13.0 i + 8.0 j\n",
            "벡터의 내적: 52.0\n",
            "벡터의 외적: -38.0\n"
          ]
        }
      ],
      "source": [
        "x1 = float(input(\"첫 번째 벡터의 x 성분을 입력하세요: \"))\n",
        "y1 = float(input(\"첫 번째 벡터의 y 성분을 입력하세요: \"))\n",
        "\n",
        "x2 = float(input(\"두 번째 벡터의 x 성분을 입력하세요: \"))\n",
        "y2 = float(input(\"두 번째 벡터의 y 성분을 입력하세요: \"))\n",
        "\n",
        "sum_x = x1 + x2\n",
        "sum_y = y1 + y2\n",
        "\n",
        "dot_product = x1 * x2 + y1 * y2\n",
        "\n",
        "cross_product = x1 * y2 - y1 * x2\n",
        "\n",
        "print(\"\\n벡터 1:\", x1, \"i +\", y1, \"j\")\n",
        "print(\"벡터 2:\", x2, \"i +\", y2, \"j\")\n",
        "\n",
        "print(\"\\n벡터의 합:\", sum_x, \"i +\", sum_y, \"j\")\n",
        "print(\"벡터의 내적:\", dot_product)\n",
        "print(\"벡터의 외적:\", cross_product)"
      ]
    },
    {
      "cell_type": "code",
      "source": [
        "x1 = float(input(\"첫 번째 벡터의 x 성분을 입력하세요: \"))\n",
        "y1 = float(input(\"첫 번째 벡터의 y 성분을 입력하세요: \"))\n",
        "z1 = float(input(\"첫 번째 벡터의 z 성분을 입력하세요: \"))\n",
        "\n",
        "x2 = float(input(\"두 번째 벡터의 x 성분을 입력하세요: \"))\n",
        "y2 = float(input(\"두 번째 벡터의 y 성분을 입력하세요: \"))\n",
        "z2 = float(input(\"두 번째 벡터의 z 성분을 입력하세요: \"))\n",
        "\n",
        "sum_x = x1 + x2\n",
        "sum_y = y1 + y2\n",
        "sum_z = z1 + z2\n",
        "\n",
        "dot_product = x1 * x2 + y1 * y2 + z1 * z2\n",
        "\n",
        "cross_product_x = y1 * z2 - z1 * y2\n",
        "cross_product_y = z1 * x2 - x1 * z2\n",
        "cross_product_z = x1 * y2 - y1 * x2\n",
        "\n",
        "print(\"\\n벡터 1:\", x1, \"i +\", y1, \"j +\", z1, \"k\")\n",
        "print(\"벡터 2:\", x2, \"i +\", y2, \"j +\", z2, \"k\")\n",
        "\n",
        "print(\"\\n벡터의 합:\", sum_x, \"i +\", sum_y, \"j +\", sum_z, \"k\")\n",
        "print(\"벡터의 내적:\", dot_product)\n",
        "print(\"벡터의 외적:\", cross_product_x, \"i +\", cross_product_y, \"j +\", cross_product_z, \"k\")"
      ],
      "metadata": {
        "colab": {
          "base_uri": "https://localhost:8080/"
        },
        "id": "yjynZ8a7Rf1a",
        "outputId": "7896e078-6334-43c3-803d-44673d344b1b"
      },
      "execution_count": 7,
      "outputs": [
        {
          "output_type": "stream",
          "name": "stdout",
          "text": [
            "첫 번째 벡터의 x 성분을 입력하세요: 255\n",
            "첫 번째 벡터의 y 성분을 입력하세요: 66\n",
            "첫 번째 벡터의 z 성분을 입력하세요: 77\n",
            "두 번째 벡터의 x 성분을 입력하세요: 522\n",
            "두 번째 벡터의 y 성분을 입력하세요: 22\n",
            "두 번째 벡터의 z 성분을 입력하세요: 22\n",
            "\n",
            "벡터 1: 255.0 i + 66.0 j + 77.0 k\n",
            "벡터 2: 522.0 i + 22.0 j + 22.0 k\n",
            "\n",
            "벡터의 합: 777.0 i + 88.0 j + 99.0 k\n",
            "벡터의 내적: 136256.0\n",
            "벡터의 외적: -242.0 i + 34584.0 j + -28842.0 k\n"
          ]
        }
      ]
    },
    {
      "cell_type": "code",
      "source": [],
      "metadata": {
        "id": "dNkS7Ns_SE4Y"
      },
      "execution_count": null,
      "outputs": []
    }
  ]
}