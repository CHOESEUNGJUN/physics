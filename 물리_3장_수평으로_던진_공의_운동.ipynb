{
  "nbformat": 4,
  "nbformat_minor": 0,
  "metadata": {
    "colab": {
      "provenance": [],
      "authorship_tag": "ABX9TyOLnRenVJv5wQmZejZ6N/Ai",
      "include_colab_link": true
    },
    "kernelspec": {
      "name": "python3",
      "display_name": "Python 3"
    },
    "language_info": {
      "name": "python"
    }
  },
  "cells": [
    {
      "cell_type": "markdown",
      "metadata": {
        "id": "view-in-github",
        "colab_type": "text"
      },
      "source": [
        "<a href=\"https://colab.research.google.com/github/CHOESEUNGJUN/physics/blob/02050411/%EB%AC%BC%EB%A6%AC_3%EC%9E%A5_%EC%88%98%ED%8F%89%EC%9C%BC%EB%A1%9C_%EB%8D%98%EC%A7%84_%EA%B3%B5%EC%9D%98_%EC%9A%B4%EB%8F%99.ipynb\" target=\"_parent\"><img src=\"https://colab.research.google.com/assets/colab-badge.svg\" alt=\"Open In Colab\"/></a>"
      ]
    },
    {
      "cell_type": "code",
      "execution_count": 1,
      "metadata": {
        "id": "4NKejfNSfwKV"
      },
      "outputs": [],
      "source": [
        "import math"
      ]
    },
    {
      "cell_type": "code",
      "source": [
        "#v0 = float(input(\"초기 속도를 입력하세요(m/s) : \"))\n",
        "v0 = 30;\n",
        "ang = 30;\n",
        "#ang = float(input(\"초기 각도를 입력하세요(degree) : \"))\n",
        "\n",
        "ang = math.radians(ang)\n",
        "\n",
        "x = v0 * math.cos(ang)\n",
        "\n",
        "g = 9.8\n",
        "a = -g\n",
        "\n",
        "v0x = v0 * math.cos(ang)\n",
        "v0y = v0 * math.sin(ang)\n",
        "print(\"x의 초기 속도는 :\",v0x, \"m\")\n",
        "print(\"y의 초기 속도는 :\",v0y, \"m\") # 1번\n",
        "\n",
        "H = (v0y * v0y) / 2 / g\n",
        "print(\"최고점의 높이는 :\", H, \"m\") # 2번\n",
        "\n",
        "t = v0y / g\n",
        "print(\"최고점에 도달하는 시간은 :\", t, \"s\") # 3번\n",
        "\n",
        "d = v0x * 2 * t\n",
        "print(\"수평으로 이동한 최고 거리는 :\", d, \"m\") # 4번\n",
        "\n",
        "vx = v0x\n",
        "print(\"지면에 닿을 때의 vx는 :\", vx, \"m/s\")\n",
        "vy = v0y + 2 * t * -g # 원래 식은 v0y + 2at 이나 a = -g 대입\n",
        "print(\"지면에 닿을 때의 vy는 :\", vy, \"m/s\") # 5번\n",
        "ang_ang = math.atan2(vy,vx)\n",
        "vv = math.sqrt(vx*vx + vy*vy)\n",
        "print(\"V의 크기는 :\", vv, \"이고, V의 방향은\", math.degrees(ang_ang), \"° 이다.\")"
      ],
      "metadata": {
        "colab": {
          "base_uri": "https://localhost:8080/"
        },
        "id": "3FAkJqT2jjwA",
        "outputId": "82fc02d5-365c-4a17-d515-8620eaa372b9"
      },
      "execution_count": 3,
      "outputs": [
        {
          "output_type": "stream",
          "name": "stdout",
          "text": [
            "x의 초기 속도는 : 25.98076211353316 m\n",
            "y의 초기 속도는 : 14.999999999999998 m\n",
            "최고점의 높이는 : 11.47959183673469 m\n",
            "최고점에 도달하는 시간은 : 1.5306122448979589 s\n",
            "수평으로 이동한 최고 거리는 : 79.53294524550965 m\n",
            "지면에 닿을 때의 vx는 : 25.98076211353316 m/s\n",
            "지면에 닿을 때의 vy는 : -14.999999999999998 m/s\n",
            "V의 크기는 : 30.0 이고, V의 방향은 -29.999999999999996 ° 이다.\n"
          ]
        }
      ]
    },
    {
      "cell_type": "code",
      "source": [],
      "metadata": {
        "id": "_aPVk3r2kZtO"
      },
      "execution_count": null,
      "outputs": []
    }
  ]
}