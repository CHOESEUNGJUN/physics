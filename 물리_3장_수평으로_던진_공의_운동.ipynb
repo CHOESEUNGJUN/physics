{
  "nbformat": 4,
  "nbformat_minor": 0,
  "metadata": {
    "colab": {
      "provenance": [],
      "authorship_tag": "ABX9TyML31j+Dve1MFClTdyQjgzq",
      "include_colab_link": true
    },
    "kernelspec": {
      "name": "python3",
      "display_name": "Python 3"
    },
    "language_info": {
      "name": "python"
    }
  },
  "cells": [
    {
      "cell_type": "markdown",
      "metadata": {
        "id": "view-in-github",
        "colab_type": "text"
      },
      "source": [
        "<a href=\"https://colab.research.google.com/github/CHOESEUNGJUN/physics/blob/02050411/%EB%AC%BC%EB%A6%AC_3%EC%9E%A5_%EC%88%98%ED%8F%89%EC%9C%BC%EB%A1%9C_%EB%8D%98%EC%A7%84_%EA%B3%B5%EC%9D%98_%EC%9A%B4%EB%8F%99.ipynb\" target=\"_parent\"><img src=\"https://colab.research.google.com/assets/colab-badge.svg\" alt=\"Open In Colab\"/></a>"
      ]
    },
    {
      "cell_type": "code",
      "source": [
        "import math\n",
        "\n",
        "# 주어진 값\n",
        "ang = 30  # 발사각도 (degrees)\n",
        "v = 30  # 초기 속도 (m/s)\n",
        "g = 9.8  # 중력 가속도 (m/s²)\n",
        "\n",
        "# 각도를 라디안으로 변환\n",
        "rad = math.radians(ang)\n",
        "\n",
        "# 1) x, y 방향의 초기 속도 구하기\n",
        "vx = v * math.cos(rad)\n",
        "vy = v * math.sin(rad)\n",
        "print(\"x 방향 초기 속도:\", vx, \"m/s\")\n",
        "print(\"y 방향 초기 속도:\", vy, \"m/s\")\n",
        "\n",
        "# 2) 최고점의 높이 구하기\n",
        "h_max = (vy**2) / (2 * g)\n",
        "print(\"최고점 높이:\", h_max, \"m\")\n",
        "\n",
        "# 3) 최고점에 도달하는 시간 구하기\n",
        "t_max = vy / g\n",
        "print(\"최고점 도달 시간:\", t_max, \"초\")\n",
        "\n",
        "# 4) 수평으로 이동한 거리 구하기\n",
        "t_total = 2 * t_max  # 전체 비행 시간\n",
        "dist = vx * t_total\n",
        "print(\"수평 이동 거리:\", dist, \"m\")\n",
        "\n",
        "# 5) 지면에 닿을 때의 Vx, Vy와 V 구하기\n",
        "vy_end = -vy  # 최고점 이후 지면에 닿을 때 y 방향 속도\n",
        "v_end = math.sqrt(vx**2 + vy_end**2)\n",
        "print(\"지면에 닿을 때 x 방향 속도:\", vx, \"m/s\")\n",
        "print(\"지면에 닿을 때 y 방향 속도:\", vy_end, \"m/s\")\n",
        "print(\"지면에 닿을 때 속도 크기:\", v_end, \"m/s\")\n",
        "\n",
        "# 벡터 성분\n",
        "print(\"속도 벡터 성분: (\", vx, \",\", vy_end, \")\")"
      ],
      "metadata": {
        "colab": {
          "base_uri": "https://localhost:8080/"
        },
        "id": "3FAkJqT2jjwA",
        "outputId": "c5448940-2804-4253-9529-02ff0d5be656"
      },
      "execution_count": 4,
      "outputs": [
        {
          "output_type": "stream",
          "name": "stdout",
          "text": [
            "x 방향 초기 속도: 25.98076211353316 m/s\n",
            "y 방향 초기 속도: 14.999999999999998 m/s\n",
            "최고점 높이: 11.47959183673469 m\n",
            "최고점 도달 시간: 1.5306122448979589 초\n",
            "수평 이동 거리: 79.53294524550965 m\n",
            "지면에 닿을 때 x 방향 속도: 25.98076211353316 m/s\n",
            "지면에 닿을 때 y 방향 속도: -14.999999999999998 m/s\n",
            "지면에 닿을 때 속도 크기: 30.0 m/s\n",
            "속도 벡터 성분: ( 25.98076211353316 , -14.999999999999998 )\n"
          ]
        }
      ]
    },
    {
      "cell_type": "code",
      "source": [],
      "metadata": {
        "id": "_aPVk3r2kZtO"
      },
      "execution_count": null,
      "outputs": []
    }
  ]
}