{
  "nbformat": 4,
  "nbformat_minor": 0,
  "metadata": {
    "colab": {
      "provenance": [],
      "gpuType": "T4",
      "authorship_tag": "ABX9TyNHFbiSjcLHYt8rmM7015PC",
      "include_colab_link": true
    },
    "kernelspec": {
      "name": "python3",
      "display_name": "Python 3"
    },
    "language_info": {
      "name": "python"
    },
    "accelerator": "GPU"
  },
  "cells": [
    {
      "cell_type": "markdown",
      "metadata": {
        "id": "view-in-github",
        "colab_type": "text"
      },
      "source": [
        "<a href=\"https://colab.research.google.com/github/CHOESEUNGJUN/physics/blob/20250415/motion_programming_of_an_oblique_ballPY.ipynb\" target=\"_parent\"><img src=\"https://colab.research.google.com/assets/colab-badge.svg\" alt=\"Open In Colab\"/></a>"
      ]
    },
    {
      "cell_type": "code",
      "execution_count": 1,
      "metadata": {
        "colab": {
          "base_uri": "https://localhost:8080/"
        },
        "id": "iC40cZDMX4N7",
        "outputId": "da193190-02cc-4350-ae6e-da4772fbcaa5"
      },
      "outputs": [
        {
          "output_type": "stream",
          "name": "stdout",
          "text": [
            "초기 속도 v0 (m/s): 10\n",
            "발사 각도 (도): 10\n",
            "초기 높이 h (m): 10\n",
            "\n",
            "① 충돌까지 시간: 1.62 초\n",
            "② 수평 거리: 15.92 m\n",
            "③ 충돌 순간 속도 성분 - Vx: 9.85 m/s, Vy: -14.11 m/s\n",
            "④ 충돌 순간 속도 크기: 17.20 m/s\n",
            "⑤ 속도 방향 각도 (수평 기준): -55.08 도\n"
          ]
        }
      ],
      "source": [
        "import math\n",
        "\n",
        "# 입력\n",
        "v0 = float(input(\"초기 속도 v0 (m/s): \"))\n",
        "angle_deg = float(input(\"발사 각도 (도): \"))\n",
        "h = float(input(\"초기 높이 h (m): \"))\n",
        "\n",
        "g = 9.8\n",
        "angle_rad = math.radians(angle_deg)\n",
        "\n",
        "# 속도 성분\n",
        "v0x = v0 * math.cos(angle_rad)\n",
        "v0y = v0 * math.sin(angle_rad)\n",
        "\n",
        "# (1) 시간 계산 (이차방정식: 0 = h + v0y*t - 0.5*g*t^2)\n",
        "a = -0.5 * g\n",
        "b = v0y\n",
        "c = h\n",
        "\n",
        "discriminant = b**2 - 4*a*c\n",
        "if discriminant < 0:\n",
        "    print(\"해가 존재하지 않습니다.\")\n",
        "    exit()\n",
        "1\n",
        "t1 = (-b + math.sqrt(discriminant)) / (2 * a)\n",
        "t2 = (-b - math.sqrt(discriminant)) / (2 * a)\n",
        "t = max(t1, t2)\n",
        "\n",
        "# (2) 수평 거리\n",
        "x = v0x * t\n",
        "\n",
        "# (3) 충돌 시 속도 성분\n",
        "vx = v0x\n",
        "vy = v0y - g * t\n",
        "\n",
        "# (4) 속도 크기\n",
        "v = math.sqrt(vx**2 + vy**2)\n",
        "\n",
        "# (5) 속도 방향\n",
        "theta = math.degrees(math.atan2(vy, vx))\n",
        "\n",
        "# 출력\n",
        "print(f\"\\n① 충돌까지 시간: {t:.2f} 초\")\n",
        "print(f\"② 수평 거리: {x:.2f} m\")\n",
        "print(f\"③ 충돌 순간 속도 성분 - Vx: {vx:.2f} m/s, Vy: {vy:.2f} m/s\")\n",
        "print(f\"④ 충돌 순간 속도 크기: {v:.2f} m/s\")\n",
        "print(f\"⑤ 속도 방향 각도 (수평 기준): {theta:.2f} 도\")"
      ]
    },
    {
      "cell_type": "code",
      "source": [],
      "metadata": {
        "id": "gFLfJO7pX45E"
      },
      "execution_count": null,
      "outputs": []
    }
  ]
}