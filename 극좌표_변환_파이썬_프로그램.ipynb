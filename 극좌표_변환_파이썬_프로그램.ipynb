{
  "nbformat": 4,
  "nbformat_minor": 0,
  "metadata": {
    "colab": {
      "provenance": [],
      "include_colab_link": true
    },
    "kernelspec": {
      "name": "python3",
      "display_name": "Python 3"
    },
    "language_info": {
      "name": "python"
    }
  },
  "cells": [
    {
      "cell_type": "markdown",
      "metadata": {
        "id": "view-in-github",
        "colab_type": "text"
      },
      "source": [
        "<a href=\"https://colab.research.google.com/github/CHOESEUNGJUN/physics/blob/20250312/%EA%B7%B9%EC%A2%8C%ED%91%9C_%EB%B3%80%ED%99%98_%ED%8C%8C%EC%9D%B4%EC%8D%AC_%ED%94%84%EB%A1%9C%EA%B7%B8%EB%9E%A8.ipynb\" target=\"_parent\"><img src=\"https://colab.research.google.com/assets/colab-badge.svg\" alt=\"Open In Colab\"/></a>"
      ]
    },
    {
      "cell_type": "markdown",
      "source": [
        "호도법 https://pangtrue.tistory.com/115"
      ],
      "metadata": {
        "id": "x-wqrw1qiGGo"
      }
    },
    {
      "cell_type": "code",
      "source": [
        "import math #수학 함수를 사용하기 위해서 라이브러리 추가\n",
        "angle_degree = 30\n",
        "angle_radian = angle_degree * math.pi / 180\n",
        "print(\"angle_degree: \", angle_radian)"
      ],
      "metadata": {
        "colab": {
          "base_uri": "https://localhost:8080/"
        },
        "id": "8T5-5_vqBwGC",
        "outputId": "5e3c9859-ed2c-4b68-ef88-d4265cd9637b"
      },
      "execution_count": 4,
      "outputs": [
        {
          "output_type": "stream",
          "name": "stdout",
          "text": [
            "angle_degree:  0.5235987755982988\n"
          ]
        }
      ]
    },
    {
      "cell_type": "code",
      "source": [
        "math.cos(angle_radian)"
      ],
      "metadata": {
        "colab": {
          "base_uri": "https://localhost:8080/"
        },
        "id": "Km27SMjxCUOG",
        "outputId": "60ce957b-88ee-49fe-be15-5f2679465223"
      },
      "execution_count": 6,
      "outputs": [
        {
          "output_type": "execute_result",
          "data": {
            "text/plain": [
              "0.8660254037844387"
            ]
          },
          "metadata": {},
          "execution_count": 6
        }
      ]
    },
    {
      "cell_type": "code",
      "source": [
        "math.sin(angle_radian)"
      ],
      "metadata": {
        "colab": {
          "base_uri": "https://localhost:8080/"
        },
        "id": "2yq3k7gIjwMp",
        "outputId": "957ec17d-4244-4e84-ab22-100a34c353fd"
      },
      "execution_count": 7,
      "outputs": [
        {
          "output_type": "execute_result",
          "data": {
            "text/plain": [
              "0.49999999999999994"
            ]
          },
          "metadata": {},
          "execution_count": 7
        }
      ]
    },
    {
      "cell_type": "code",
      "source": [
        "math.tan(angle_radian)"
      ],
      "metadata": {
        "colab": {
          "base_uri": "https://localhost:8080/"
        },
        "id": "5Us0iLIFCeGu",
        "outputId": "79b26b61-5994-40a6-d617-45e64b48da25"
      },
      "execution_count": 8,
      "outputs": [
        {
          "output_type": "execute_result",
          "data": {
            "text/plain": [
              "0.5773502691896257"
            ]
          },
          "metadata": {},
          "execution_count": 8
        }
      ]
    },
    {
      "cell_type": "markdown",
      "source": [
        "직교 좌표를 극좌표로 변환"
      ],
      "metadata": {
        "id": "RPLfd6GACnvG"
      }
    },
    {
      "cell_type": "code",
      "source": [
        "x, y = 1.0, 2.0\n",
        "\n",
        "r = math.sqrt(x**2 + y**2)\n",
        "theta_raidan = math.atan2(y, x)\n",
        "print(r, theta_raidan)"
      ],
      "metadata": {
        "colab": {
          "base_uri": "https://localhost:8080/"
        },
        "id": "apd5TFE5Cva-",
        "outputId": "01aa3b03-4550-480a-c2ef-dc1eebf50d04"
      },
      "execution_count": 10,
      "outputs": [
        {
          "output_type": "stream",
          "name": "stdout",
          "text": [
            "2.23606797749979 1.1071487177940904\n"
          ]
        }
      ]
    },
    {
      "cell_type": "markdown",
      "source": [
        "극좌표를 직교 좌표로 변환"
      ],
      "metadata": {
        "id": "nfE_IXfoDA8n"
      }
    },
    {
      "cell_type": "code",
      "source": [
        "r= 10\n",
        "angle_degree= 30\n",
        "\n",
        "x = r * math.cos(angle_radian)\n",
        "y = r * math.sin(angle_radian)\n",
        "print(x ,y)"
      ],
      "metadata": {
        "colab": {
          "base_uri": "https://localhost:8080/"
        },
        "id": "CSlJukvCDAbM",
        "outputId": "c2f2674e-9a1f-4f48-f141-eeca541fd76c"
      },
      "execution_count": 11,
      "outputs": [
        {
          "output_type": "stream",
          "name": "stdout",
          "text": [
            "8.660254037844387 4.999999999999999\n"
          ]
        }
      ]
    },
    {
      "cell_type": "code",
      "source": [],
      "metadata": {
        "id": "oMdw3lGHhXbV"
      },
      "execution_count": null,
      "outputs": []
    }
  ]
}